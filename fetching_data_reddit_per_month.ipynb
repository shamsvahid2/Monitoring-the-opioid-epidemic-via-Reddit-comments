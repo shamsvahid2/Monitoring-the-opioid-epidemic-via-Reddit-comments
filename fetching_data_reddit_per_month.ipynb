{
 "cells": [
  {
   "cell_type": "markdown",
   "id": "0ded81a5",
   "metadata": {},
   "source": [
    "## Collecting data :\n",
    "This code uses Reddit API and gets all comments containing all possible brand names of opioids of three different categories: 'heroin', 'morphine', 'fentanyl', 'oxycodone.'"
   ]
  },
  {
   "cell_type": "code",
   "execution_count": 4,
   "id": "2b57f33b",
   "metadata": {},
   "outputs": [],
   "source": [
    "import pandas as pd\n",
    "from psaw import PushshiftAPI\n",
    "import datetime as dt\n",
    "import gc "
   ]
  },
  {
   "cell_type": "code",
   "execution_count": 5,
   "id": "c3d055b3",
   "metadata": {},
   "outputs": [],
   "source": [
    "api = PushshiftAPI()"
   ]
  },
  {
   "cell_type": "markdown",
   "id": "593d44fe",
   "metadata": {},
   "source": [
    "## Considering different Substances\n",
    "In this section, we construct a query to fetch data from Reddit. The query is designed such that it contains all possible brand names of opioids. We already found all possible brand names of opioids and stored them in opioid_kinds.csv."
   ]
  },
  {
   "cell_type": "code",
   "execution_count": 6,
   "id": "58683eae",
   "metadata": {},
   "outputs": [],
   "source": [
    "diff_kinds = pd.read_csv('opioid_kinds.csv')"
   ]
  },
  {
   "cell_type": "code",
   "execution_count": 7,
   "id": "71c99717",
   "metadata": {},
   "outputs": [],
   "source": [
    "#constructing query\n",
    "query = '' # a string which we want to send with the request of twitter API \n",
    "\n",
    "#the following loop tries to add  brand names of drugs to our query\n",
    "for i in range(len(diff_kinds)):\n",
    "    tmp_list = diff_kinds.iloc[i]['edOne'].split(\",\")\n",
    "    for j in tmp_list:\n",
    "        if len(query) > 0:\n",
    "            query = query + '|' + '('+ j + ')'\n",
    "        else:\n",
    "            query = query + '('+ j + ')'\n",
    "        if len(query) > 1010:\n",
    "            break"
   ]
  },
  {
   "cell_type": "code",
   "execution_count": 8,
   "id": "786df3d3",
   "metadata": {},
   "outputs": [
    {
     "data": {
      "text/plain": [
       "array(['heroin', 'morphine', 'fentanyl', 'oxycodone'], dtype=object)"
      ]
     },
     "execution_count": 8,
     "metadata": {},
     "output_type": "execute_result"
    }
   ],
   "source": [
    "diff_kinds['drug'].unique()"
   ]
  },
  {
   "cell_type": "markdown",
   "id": "0123c58e",
   "metadata": {},
   "source": [
    "## Requesting API :\n",
    "This section will get the targeted year and store all related comments of each month in a single data frame"
   ]
  },
  {
   "cell_type": "code",
   "execution_count": 9,
   "id": "feebdce5",
   "metadata": {},
   "outputs": [
    {
     "name": "stdout",
     "output_type": "stream",
     "text": [
      "1\n"
     ]
    },
    {
     "name": "stderr",
     "output_type": "stream",
     "text": [
      "/Users/shamsvahid2/opt/miniconda3/envs/giotto-deep/lib/python3.8/site-packages/psaw/PushshiftAPI.py:252: UserWarning: Not all PushShift shards are active. Query results may be incomplete\n",
      "  warnings.warn(shards_down_message)\n"
     ]
    },
    {
     "name": "stdout",
     "output_type": "stream",
     "text": [
      "2\n"
     ]
    },
    {
     "name": "stderr",
     "output_type": "stream",
     "text": [
      "/Users/shamsvahid2/opt/miniconda3/envs/giotto-deep/lib/python3.8/site-packages/psaw/PushshiftAPI.py:252: UserWarning: Not all PushShift shards are active. Query results may be incomplete\n",
      "  warnings.warn(shards_down_message)\n"
     ]
    },
    {
     "name": "stdout",
     "output_type": "stream",
     "text": [
      "3\n"
     ]
    },
    {
     "name": "stderr",
     "output_type": "stream",
     "text": [
      "/Users/shamsvahid2/opt/miniconda3/envs/giotto-deep/lib/python3.8/site-packages/psaw/PushshiftAPI.py:252: UserWarning: Not all PushShift shards are active. Query results may be incomplete\n",
      "  warnings.warn(shards_down_message)\n"
     ]
    },
    {
     "name": "stdout",
     "output_type": "stream",
     "text": [
      "4\n"
     ]
    },
    {
     "name": "stderr",
     "output_type": "stream",
     "text": [
      "/Users/shamsvahid2/opt/miniconda3/envs/giotto-deep/lib/python3.8/site-packages/psaw/PushshiftAPI.py:252: UserWarning: Not all PushShift shards are active. Query results may be incomplete\n",
      "  warnings.warn(shards_down_message)\n"
     ]
    },
    {
     "name": "stdout",
     "output_type": "stream",
     "text": [
      "5\n"
     ]
    },
    {
     "name": "stderr",
     "output_type": "stream",
     "text": [
      "/Users/shamsvahid2/opt/miniconda3/envs/giotto-deep/lib/python3.8/site-packages/psaw/PushshiftAPI.py:252: UserWarning: Not all PushShift shards are active. Query results may be incomplete\n",
      "  warnings.warn(shards_down_message)\n"
     ]
    },
    {
     "name": "stdout",
     "output_type": "stream",
     "text": [
      "6\n"
     ]
    },
    {
     "name": "stderr",
     "output_type": "stream",
     "text": [
      "/Users/shamsvahid2/opt/miniconda3/envs/giotto-deep/lib/python3.8/site-packages/psaw/PushshiftAPI.py:252: UserWarning: Not all PushShift shards are active. Query results may be incomplete\n",
      "  warnings.warn(shards_down_message)\n"
     ]
    },
    {
     "name": "stdout",
     "output_type": "stream",
     "text": [
      "7\n"
     ]
    },
    {
     "name": "stderr",
     "output_type": "stream",
     "text": [
      "/Users/shamsvahid2/opt/miniconda3/envs/giotto-deep/lib/python3.8/site-packages/psaw/PushshiftAPI.py:252: UserWarning: Not all PushShift shards are active. Query results may be incomplete\n",
      "  warnings.warn(shards_down_message)\n"
     ]
    },
    {
     "name": "stdout",
     "output_type": "stream",
     "text": [
      "8\n"
     ]
    },
    {
     "name": "stderr",
     "output_type": "stream",
     "text": [
      "/Users/shamsvahid2/opt/miniconda3/envs/giotto-deep/lib/python3.8/site-packages/psaw/PushshiftAPI.py:252: UserWarning: Not all PushShift shards are active. Query results may be incomplete\n",
      "  warnings.warn(shards_down_message)\n"
     ]
    },
    {
     "name": "stdout",
     "output_type": "stream",
     "text": [
      "9\n"
     ]
    },
    {
     "name": "stderr",
     "output_type": "stream",
     "text": [
      "/Users/shamsvahid2/opt/miniconda3/envs/giotto-deep/lib/python3.8/site-packages/psaw/PushshiftAPI.py:252: UserWarning: Not all PushShift shards are active. Query results may be incomplete\n",
      "  warnings.warn(shards_down_message)\n"
     ]
    },
    {
     "name": "stdout",
     "output_type": "stream",
     "text": [
      "10\n"
     ]
    },
    {
     "name": "stderr",
     "output_type": "stream",
     "text": [
      "/Users/shamsvahid2/opt/miniconda3/envs/giotto-deep/lib/python3.8/site-packages/psaw/PushshiftAPI.py:252: UserWarning: Not all PushShift shards are active. Query results may be incomplete\n",
      "  warnings.warn(shards_down_message)\n"
     ]
    },
    {
     "name": "stdout",
     "output_type": "stream",
     "text": [
      "11\n"
     ]
    },
    {
     "name": "stderr",
     "output_type": "stream",
     "text": [
      "/Users/shamsvahid2/opt/miniconda3/envs/giotto-deep/lib/python3.8/site-packages/psaw/PushshiftAPI.py:252: UserWarning: Not all PushShift shards are active. Query results may be incomplete\n",
      "  warnings.warn(shards_down_message)\n"
     ]
    },
    {
     "name": "stdout",
     "output_type": "stream",
     "text": [
      "12\n"
     ]
    },
    {
     "name": "stderr",
     "output_type": "stream",
     "text": [
      "/Users/shamsvahid2/opt/miniconda3/envs/giotto-deep/lib/python3.8/site-packages/psaw/PushshiftAPI.py:252: UserWarning: Not all PushShift shards are active. Query results may be incomplete\n",
      "  warnings.warn(shards_down_message)\n"
     ]
    }
   ],
   "source": [
    "year = 2019\n",
    "for month in range(1,13):\n",
    "    print(month)\n",
    "    if month < 12:\n",
    "        start_epoch=int(dt.datetime(year, month, 1).timestamp())\n",
    "        end_epoch=int(dt.datetime(year, month+1, 1).timestamp())\n",
    "    else:\n",
    "        start_epoch=int(dt.datetime(year, month, 1).timestamp())\n",
    "        end_epoch=int(dt.datetime(year+1, 1, 1).timestamp())\n",
    "    #request \n",
    "    api_request_generator = api.search_comments(q=query, after = start_epoch, before=end_epoch)\n",
    "    #constructing df\n",
    "    aita_submissions = pd.DataFrame([submission.d_ for submission in api_request_generator])\n",
    "    #change the format of date \n",
    "    aita_submissions['date'] = pd.to_datetime(aita_submissions['created_utc'], utc=True, unit='s')\n",
    "    #final df\n",
    "    df = aita_submissions[['date', 'body', 'score']]\n",
    "    #saving \n",
    "    df.to_csv('reddit_data/'+str(year)+'-'+str(month)+'.csv')"
   ]
  }
 ],
 "metadata": {
  "kernelspec": {
   "display_name": "Python 3 (ipykernel)",
   "language": "python",
   "name": "python3"
  },
  "language_info": {
   "codemirror_mode": {
    "name": "ipython",
    "version": 3
   },
   "file_extension": ".py",
   "mimetype": "text/x-python",
   "name": "python",
   "nbconvert_exporter": "python",
   "pygments_lexer": "ipython3",
   "version": "3.8.13"
  }
 },
 "nbformat": 4,
 "nbformat_minor": 5
}
